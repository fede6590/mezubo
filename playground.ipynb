{
 "cells": [
  {
   "cell_type": "code",
   "execution_count": 1,
   "metadata": {},
   "outputs": [],
   "source": [
    "import random"
   ]
  },
  {
   "cell_type": "code",
   "execution_count": 98,
   "metadata": {},
   "outputs": [],
   "source": [
    "WALLET = 10000"
   ]
  },
  {
   "cell_type": "code",
   "execution_count": 97,
   "metadata": {},
   "outputs": [],
   "source": [
    "DB = {\n",
    "    'roulettes': {}\n",
    "}"
   ]
  },
  {
   "cell_type": "code",
   "execution_count": 4,
   "metadata": {},
   "outputs": [],
   "source": [
    "def create_roulette():\n",
    "    roulette_id = len(DB['roulettes']) + 1\n",
    "    DB['roulettes'][roulette_id] = {'status': 'closed'}\n",
    "    return {'roulette_id': roulette_id}"
   ]
  },
  {
   "cell_type": "code",
   "execution_count": 5,
   "metadata": {},
   "outputs": [],
   "source": [
    "def open_roulette(roulette_id):\n",
    "    if roulette_id not in DB['roulettes']:\n",
    "        return {'error': 'Roulette not found'}\n",
    "    if DB['roulettes'][roulette_id]['status'] == 'opened':\n",
    "        return {'error': 'already opened'}\n",
    "    DB['roulettes'][roulette_id]['status'] = 'opened'\n",
    "    return {'status': 'success'}"
   ]
  },
  {
   "cell_type": "code",
   "execution_count": 81,
   "metadata": {},
   "outputs": [],
   "source": [
    "def place_bet(roulette_id, bet, amount):\n",
    "    if roulette_id not in DB['roulettes'] or DB['roulettes'][roulette_id]['status'] != 'opened':\n",
    "        return {'error': 'The roulette is closed'}\n",
    "    global WALLET\n",
    "    bets = list(range(37)) + ['black', 'red']\n",
    "    if bet not in bets:\n",
    "        return {'error': 'Chose a number between 0 and 36, or choose a color (black or red)'}\n",
    "    elif amount > 10000:\n",
    "        return {'error': 'Chose an amount between 1 and 10000'}\n",
    "    elif amount > WALLET:\n",
    "        return {'error': 'Not enough credits'}\n",
    "    else:     \n",
    "        bet_id = len(DB['roulettes'][roulette_id]) # +1 - 1 because of the 'status' key-value\n",
    "        DB['roulettes'][roulette_id][bet_id] = {0: bet, 1: amount}\n",
    "        WALLET -= amount\n",
    "        return {'success': 'bet placed successfully'}"
   ]
  },
  {
   "cell_type": "code",
   "execution_count": 124,
   "metadata": {},
   "outputs": [],
   "source": [
    "def close_bets(roulette_id):\n",
    "    if roulette_id not in list(DB['roulettes'].keys()):\n",
    "        return {'error': 'roulette not opened'}\n",
    "    \n",
    "    if DB['roulettes'][roulette_id]['status'] != 'opened':\n",
    "        return {'error': 'roulette already closed'}\n",
    "\n",
    "    if len(DB['roulettes'][roulette_id]) == 1:\n",
    "        return {'status': 'closing without any bet'}\n",
    "    \n",
    "    global WALLET\n",
    "    win_num = random.randint(0, 36)\n",
    "    print(win_num)\n",
    "    for b in DB['roulettes'][roulette_id]:\n",
    "        if b == 'status':\n",
    "            continue\n",
    "        bet = DB['roulettes'][roulette_id][b][0]\n",
    "        amount = DB['roulettes'][roulette_id][b][1]\n",
    "        if bet.isdigit():\n",
    "            if int(bet) == win_num:\n",
    "                pot = amount * 5\n",
    "                WALLET += pot\n",
    "                print(f'You won {pot} (x 5 on your bet)')\n",
    "        elif bet == 'black':\n",
    "            if win_num in range(1, 37, 2):\n",
    "                pot = amount * 1.8\n",
    "                WALLET += pot\n",
    "                print(f'You won {pot} (x 1.8 on your bet)')\n",
    "        elif bet == 'red':\n",
    "            if win_num in range(0, 37, 2):\n",
    "                pot = amount * 1.8\n",
    "                WALLET += pot\n",
    "                print(f'You won {pot} (x 1.8 on your bet)')\n",
    "        del b\n",
    "    DB['roulettes'][roulette_id]['status'] = 'closed'\n",
    "    return {'status': f' you have {WALLET} left'}"
   ]
  },
  {
   "cell_type": "code",
   "execution_count": 125,
   "metadata": {},
   "outputs": [
    {
     "data": {
      "text/plain": [
       "{'roulette_id': 2}"
      ]
     },
     "execution_count": 125,
     "metadata": {},
     "output_type": "execute_result"
    }
   ],
   "source": [
    "create_roulette()"
   ]
  },
  {
   "cell_type": "code",
   "execution_count": 131,
   "metadata": {},
   "outputs": [
    {
     "data": {
      "text/plain": [
       "{'status': 'success'}"
      ]
     },
     "execution_count": 131,
     "metadata": {},
     "output_type": "execute_result"
    }
   ],
   "source": [
    "open_roulette(2)"
   ]
  },
  {
   "cell_type": "code",
   "execution_count": 127,
   "metadata": {},
   "outputs": [
    {
     "data": {
      "text/plain": [
       "{'success': 'bet placed successfully'}"
      ]
     },
     "execution_count": 127,
     "metadata": {},
     "output_type": "execute_result"
    }
   ],
   "source": [
    "place_bet(2, 'black', 150)"
   ]
  },
  {
   "cell_type": "code",
   "execution_count": 132,
   "metadata": {},
   "outputs": [
    {
     "name": "stdout",
     "output_type": "stream",
     "text": [
      "17\n",
      "You won 270.0 (x 1.8 on your bet)\n"
     ]
    },
    {
     "data": {
      "text/plain": [
       "{'status': ' you have 10410.0 left'}"
      ]
     },
     "execution_count": 132,
     "metadata": {},
     "output_type": "execute_result"
    }
   ],
   "source": [
    "close_bets(2)"
   ]
  },
  {
   "cell_type": "code",
   "execution_count": 108,
   "metadata": {},
   "outputs": [
    {
     "data": {
      "text/plain": [
       "{'roulettes': {1: {'status': 'closed',\n",
       "   1: {0: 'red', 1: 100},\n",
       "   2: {0: 'black', 1: 150}}}}"
      ]
     },
     "execution_count": 108,
     "metadata": {},
     "output_type": "execute_result"
    }
   ],
   "source": [
    "DB"
   ]
  },
  {
   "cell_type": "code",
   "execution_count": 106,
   "metadata": {},
   "outputs": [
    {
     "data": {
      "text/plain": [
       "'status'"
      ]
     },
     "execution_count": 106,
     "metadata": {},
     "output_type": "execute_result"
    }
   ],
   "source": [
    "list(DB['roulettes'][1].keys())[0]"
   ]
  },
  {
   "cell_type": "code",
   "execution_count": 47,
   "metadata": {},
   "outputs": [
    {
     "name": "stdout",
     "output_type": "stream",
     "text": [
      "OK\n"
     ]
    }
   ],
   "source": [
    "if 'status' in list(DB['roulettes'][1].keys()):\n",
    "    print('OK')"
   ]
  },
  {
   "cell_type": "code",
   "execution_count": 48,
   "metadata": {},
   "outputs": [
    {
     "data": {
      "text/plain": [
       "[1]"
      ]
     },
     "execution_count": 48,
     "metadata": {},
     "output_type": "execute_result"
    }
   ],
   "source": [
    "list(DB['roulettes'].keys())"
   ]
  },
  {
   "cell_type": "code",
   "execution_count": 19,
   "metadata": {},
   "outputs": [
    {
     "data": {
      "text/plain": [
       "True"
      ]
     },
     "execution_count": 19,
     "metadata": {},
     "output_type": "execute_result"
    }
   ],
   "source": [
    "type('pepe') == str"
   ]
  },
  {
   "cell_type": "code",
   "execution_count": 23,
   "metadata": {},
   "outputs": [
    {
     "data": {
      "text/plain": [
       "'black'"
      ]
     },
     "execution_count": 23,
     "metadata": {},
     "output_type": "execute_result"
    }
   ],
   "source": [
    "list(DB['roulettes'][1][1].keys())[0]"
   ]
  },
  {
   "cell_type": "code",
   "execution_count": 24,
   "metadata": {},
   "outputs": [
    {
     "data": {
      "text/plain": [
       "100"
      ]
     },
     "execution_count": 24,
     "metadata": {},
     "output_type": "execute_result"
    }
   ],
   "source": [
    "DB['roulettes'][1][1]['black']"
   ]
  },
  {
   "cell_type": "code",
   "execution_count": null,
   "metadata": {},
   "outputs": [],
   "source": []
  }
 ],
 "metadata": {
  "kernelspec": {
   "display_name": "base",
   "language": "python",
   "name": "python3"
  },
  "language_info": {
   "codemirror_mode": {
    "name": "ipython",
    "version": 3
   },
   "file_extension": ".py",
   "mimetype": "text/x-python",
   "name": "python",
   "nbconvert_exporter": "python",
   "pygments_lexer": "ipython3",
   "version": "3.11.5"
  }
 },
 "nbformat": 4,
 "nbformat_minor": 2
}
